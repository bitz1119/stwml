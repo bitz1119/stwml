{
 "cells": [
  {
   "cell_type": "code",
   "execution_count": 1,
   "metadata": {},
   "outputs": [
    {
     "name": "stdout",
     "output_type": "stream",
     "text": [
      "5\n"
     ]
    }
   ],
   "source": [
    "n = int(input())"
   ]
  },
  {
   "cell_type": "code",
   "execution_count": 2,
   "metadata": {},
   "outputs": [
    {
     "name": "stdout",
     "output_type": "stream",
     "text": [
      "2\n",
      "2.0\n",
      "3\n",
      "2.5\n",
      "10\n",
      "5.0\n",
      "3\n",
      "4.5\n",
      "100\n",
      "23.6\n"
     ]
    }
   ],
   "source": [
    "arr = []\n",
    "abhi_tak_ka_sum = 0\n",
    "for i in range(n):\n",
    "    num = int(input())\n",
    "    abhi_tak_ka_sum = abhi_tak_ka_sum + num\n",
    "    print(abhi_tak_ka_sum/(i+1) )\n",
    "    "
   ]
  },
  {
   "cell_type": "code",
   "execution_count": 3,
   "metadata": {},
   "outputs": [],
   "source": [
    "import numpy as np\n",
    "from math import sqrt\n",
    "def std_dev(arr):\n",
    "    nparray = np.array(arr)\n",
    "    sum1 = np.sum(nparray)\n",
    "    mean1 = sum1/len(arr)\n",
    "    \n",
    "    std = sqrt(np.sum((mean1-nparray)**2)/len(arr))\n",
    "    return std\n",
    "    "
   ]
  },
  {
   "cell_type": "code",
   "execution_count": 4,
   "metadata": {},
   "outputs": [
    {
     "name": "stdout",
     "output_type": "stream",
     "text": [
      "3\n",
      "0.0\n",
      "4\n",
      "0.5\n",
      "10\n",
      "3.0912061651652345\n",
      "5\n",
      "2.692582403567252\n",
      "1\n",
      "3.006659275674582\n"
     ]
    }
   ],
   "source": [
    "arr = []\n",
    "abhi_tak_ka_sum = 0\n",
    "for i in range(n):\n",
    "    num = int(input())\n",
    "    arr.append(num)\n",
    "    print(std_dev(arr))\n",
    "    "
   ]
  },
  {
   "cell_type": "code",
   "execution_count": null,
   "metadata": {},
   "outputs": [],
   "source": []
  }
 ],
 "metadata": {
  "kernelspec": {
   "display_name": "Python 3",
   "language": "python",
   "name": "python3"
  },
  "language_info": {
   "codemirror_mode": {
    "name": "ipython",
    "version": 3
   },
   "file_extension": ".py",
   "mimetype": "text/x-python",
   "name": "python",
   "nbconvert_exporter": "python",
   "pygments_lexer": "ipython3",
   "version": "3.7.3"
  }
 },
 "nbformat": 4,
 "nbformat_minor": 2
}
