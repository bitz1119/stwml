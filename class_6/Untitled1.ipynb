{
 "cells": [
  {
   "cell_type": "markdown",
   "metadata": {},
   "source": [
    "![](https://cdn-images-1.medium.com/max/716/1*Jr1Qf-m1u-vGzDao6_CxqA.png)"
   ]
  },
  {
   "cell_type": "markdown",
   "metadata": {},
   "source": [
    "Now we have to calculate average weighted entropy. ie, we have found the total of weights of each feature multiplied by probabilities.\n",
    "\n",
    "E(S, outlook) = (5/14)*E(3,2) + (4/14)*E(4,0) + (5/14)*E(2,3) = (5/14)(-(3/5)log(3/5)-(2/5)log(2/5))+ (4/14)(0) + (5/14)((2/5)log(2/5)-(3/5)log(3/5)) = 0.693\n",
    "\n",
    "Next step is to find the information gain.It is difference between parent entropy and average weighted entropy we found above.\n",
    "\n",
    "IG(S, outlook) = 0.94 - 0.693 = 0.247\n",
    "\n",
    "Similarly find Information gain for Temperature,Humidity and Windy.\n",
    "\n",
    "IG(S, Temperature) = 0.940 - 0.911 = 0.029\n",
    "\n",
    "IG(S, Humidity) = 0.940 - 0.788 = 0.152\n",
    "\n",
    "IG(S, Windy) = 0.940 - 0.8932 = 0.048\n",
    "\n",
    "Now select the feature having largest entropy gain.Here it is Outlook.So it forms first node(root node) of our decision tree."
   ]
  },
  {
   "cell_type": "markdown",
   "metadata": {},
   "source": [
    "IG(S, outlook) = 0.94 - 0.693 = 0.247\n",
    "\n",
    "IG(S, Temperature) = 0.940 - 0.911 = 0.029\n",
    "\n",
    "IG(S, Humidity) = 0.940 - 0.788 = 0.152\n",
    "\n",
    "IG(S, Windy) = 0.940 - 0.8932 = 0.048"
   ]
  },
  {
   "cell_type": "code",
   "execution_count": null,
   "metadata": {},
   "outputs": [],
   "source": []
  },
  {
   "cell_type": "code",
   "execution_count": null,
   "metadata": {},
   "outputs": [],
   "source": []
  },
  {
   "cell_type": "code",
   "execution_count": null,
   "metadata": {},
   "outputs": [],
   "source": []
  },
  {
   "cell_type": "code",
   "execution_count": null,
   "metadata": {},
   "outputs": [],
   "source": []
  },
  {
   "cell_type": "code",
   "execution_count": null,
   "metadata": {},
   "outputs": [],
   "source": []
  },
  {
   "cell_type": "code",
   "execution_count": null,
   "metadata": {},
   "outputs": [],
   "source": []
  },
  {
   "cell_type": "code",
   "execution_count": null,
   "metadata": {},
   "outputs": [],
   "source": []
  }
 ],
 "metadata": {
  "kernelspec": {
   "display_name": "Python 3",
   "language": "python",
   "name": "python3"
  },
  "language_info": {
   "codemirror_mode": {
    "name": "ipython",
    "version": 3
   },
   "file_extension": ".py",
   "mimetype": "text/x-python",
   "name": "python",
   "nbconvert_exporter": "python",
   "pygments_lexer": "ipython3",
   "version": "3.7.3"
  }
 },
 "nbformat": 4,
 "nbformat_minor": 2
}
